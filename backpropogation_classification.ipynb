{
  "nbformat": 4,
  "nbformat_minor": 0,
  "metadata": {
    "colab": {
      "provenance": [],
      "authorship_tag": "ABX9TyOHGTFL4AzL4stIhB3iE5U7",
      "include_colab_link": true
    },
    "kernelspec": {
      "name": "python3",
      "display_name": "Python 3"
    },
    "language_info": {
      "name": "python"
    }
  },
  "cells": [
    {
      "cell_type": "markdown",
      "metadata": {
        "id": "view-in-github",
        "colab_type": "text"
      },
      "source": [
        "<a href=\"https://colab.research.google.com/github/Swapn2/deep_learning/blob/main/backpropogation_classification.ipynb\" target=\"_parent\"><img src=\"https://colab.research.google.com/assets/colab-badge.svg\" alt=\"Open In Colab\"/></a>"
      ]
    },
    {
      "cell_type": "code",
      "execution_count": 1,
      "metadata": {
        "id": "vHi0DdQISQNi"
      },
      "outputs": [],
      "source": [
        "import numpy as np\n",
        "import pandas as pd"
      ]
    },
    {
      "cell_type": "code",
      "source": [
        "df = pd.DataFrame([[8,8,1],[7,9,1],[6,10,0],[5,12,0 ]],columns=['cgpa','Profile_score','lpa'])\n",
        "df.head()"
      ],
      "metadata": {
        "colab": {
          "base_uri": "https://localhost:8080/",
          "height": 175
        },
        "id": "oBAkHs0VTEGM",
        "outputId": "2501babb-5467-40a6-997e-91bc7b10d01f"
      },
      "execution_count": 2,
      "outputs": [
        {
          "output_type": "execute_result",
          "data": {
            "text/plain": [
              "   cgpa  Profile_score  lpa\n",
              "0     8              8    1\n",
              "1     7              9    1\n",
              "2     6             10    0\n",
              "3     5             12    0"
            ],
            "text/html": [
              "\n",
              "  <div id=\"df-efa30432-8761-4ba1-8742-6454094d071e\" class=\"colab-df-container\">\n",
              "    <div>\n",
              "<style scoped>\n",
              "    .dataframe tbody tr th:only-of-type {\n",
              "        vertical-align: middle;\n",
              "    }\n",
              "\n",
              "    .dataframe tbody tr th {\n",
              "        vertical-align: top;\n",
              "    }\n",
              "\n",
              "    .dataframe thead th {\n",
              "        text-align: right;\n",
              "    }\n",
              "</style>\n",
              "<table border=\"1\" class=\"dataframe\">\n",
              "  <thead>\n",
              "    <tr style=\"text-align: right;\">\n",
              "      <th></th>\n",
              "      <th>cgpa</th>\n",
              "      <th>Profile_score</th>\n",
              "      <th>lpa</th>\n",
              "    </tr>\n",
              "  </thead>\n",
              "  <tbody>\n",
              "    <tr>\n",
              "      <th>0</th>\n",
              "      <td>8</td>\n",
              "      <td>8</td>\n",
              "      <td>1</td>\n",
              "    </tr>\n",
              "    <tr>\n",
              "      <th>1</th>\n",
              "      <td>7</td>\n",
              "      <td>9</td>\n",
              "      <td>1</td>\n",
              "    </tr>\n",
              "    <tr>\n",
              "      <th>2</th>\n",
              "      <td>6</td>\n",
              "      <td>10</td>\n",
              "      <td>0</td>\n",
              "    </tr>\n",
              "    <tr>\n",
              "      <th>3</th>\n",
              "      <td>5</td>\n",
              "      <td>12</td>\n",
              "      <td>0</td>\n",
              "    </tr>\n",
              "  </tbody>\n",
              "</table>\n",
              "</div>\n",
              "    <div class=\"colab-df-buttons\">\n",
              "\n",
              "  <div class=\"colab-df-container\">\n",
              "    <button class=\"colab-df-convert\" onclick=\"convertToInteractive('df-efa30432-8761-4ba1-8742-6454094d071e')\"\n",
              "            title=\"Convert this dataframe to an interactive table.\"\n",
              "            style=\"display:none;\">\n",
              "\n",
              "  <svg xmlns=\"http://www.w3.org/2000/svg\" height=\"24px\" viewBox=\"0 -960 960 960\">\n",
              "    <path d=\"M120-120v-720h720v720H120Zm60-500h600v-160H180v160Zm220 220h160v-160H400v160Zm0 220h160v-160H400v160ZM180-400h160v-160H180v160Zm440 0h160v-160H620v160ZM180-180h160v-160H180v160Zm440 0h160v-160H620v160Z\"/>\n",
              "  </svg>\n",
              "    </button>\n",
              "\n",
              "  <style>\n",
              "    .colab-df-container {\n",
              "      display:flex;\n",
              "      gap: 12px;\n",
              "    }\n",
              "\n",
              "    .colab-df-convert {\n",
              "      background-color: #E8F0FE;\n",
              "      border: none;\n",
              "      border-radius: 50%;\n",
              "      cursor: pointer;\n",
              "      display: none;\n",
              "      fill: #1967D2;\n",
              "      height: 32px;\n",
              "      padding: 0 0 0 0;\n",
              "      width: 32px;\n",
              "    }\n",
              "\n",
              "    .colab-df-convert:hover {\n",
              "      background-color: #E2EBFA;\n",
              "      box-shadow: 0px 1px 2px rgba(60, 64, 67, 0.3), 0px 1px 3px 1px rgba(60, 64, 67, 0.15);\n",
              "      fill: #174EA6;\n",
              "    }\n",
              "\n",
              "    .colab-df-buttons div {\n",
              "      margin-bottom: 4px;\n",
              "    }\n",
              "\n",
              "    [theme=dark] .colab-df-convert {\n",
              "      background-color: #3B4455;\n",
              "      fill: #D2E3FC;\n",
              "    }\n",
              "\n",
              "    [theme=dark] .colab-df-convert:hover {\n",
              "      background-color: #434B5C;\n",
              "      box-shadow: 0px 1px 3px 1px rgba(0, 0, 0, 0.15);\n",
              "      filter: drop-shadow(0px 1px 2px rgba(0, 0, 0, 0.3));\n",
              "      fill: #FFFFFF;\n",
              "    }\n",
              "  </style>\n",
              "\n",
              "    <script>\n",
              "      const buttonEl =\n",
              "        document.querySelector('#df-efa30432-8761-4ba1-8742-6454094d071e button.colab-df-convert');\n",
              "      buttonEl.style.display =\n",
              "        google.colab.kernel.accessAllowed ? 'block' : 'none';\n",
              "\n",
              "      async function convertToInteractive(key) {\n",
              "        const element = document.querySelector('#df-efa30432-8761-4ba1-8742-6454094d071e');\n",
              "        const dataTable =\n",
              "          await google.colab.kernel.invokeFunction('convertToInteractive',\n",
              "                                                    [key], {});\n",
              "        if (!dataTable) return;\n",
              "\n",
              "        const docLinkHtml = 'Like what you see? Visit the ' +\n",
              "          '<a target=\"_blank\" href=https://colab.research.google.com/notebooks/data_table.ipynb>data table notebook</a>'\n",
              "          + ' to learn more about interactive tables.';\n",
              "        element.innerHTML = '';\n",
              "        dataTable['output_type'] = 'display_data';\n",
              "        await google.colab.output.renderOutput(dataTable, element);\n",
              "        const docLink = document.createElement('div');\n",
              "        docLink.innerHTML = docLinkHtml;\n",
              "        element.appendChild(docLink);\n",
              "      }\n",
              "    </script>\n",
              "  </div>\n",
              "\n",
              "\n",
              "<div id=\"df-60c7cb7e-b176-4620-9b4d-dd9e934237db\">\n",
              "  <button class=\"colab-df-quickchart\" onclick=\"quickchart('df-60c7cb7e-b176-4620-9b4d-dd9e934237db')\"\n",
              "            title=\"Suggest charts\"\n",
              "            style=\"display:none;\">\n",
              "\n",
              "<svg xmlns=\"http://www.w3.org/2000/svg\" height=\"24px\"viewBox=\"0 0 24 24\"\n",
              "     width=\"24px\">\n",
              "    <g>\n",
              "        <path d=\"M19 3H5c-1.1 0-2 .9-2 2v14c0 1.1.9 2 2 2h14c1.1 0 2-.9 2-2V5c0-1.1-.9-2-2-2zM9 17H7v-7h2v7zm4 0h-2V7h2v10zm4 0h-2v-4h2v4z\"/>\n",
              "    </g>\n",
              "</svg>\n",
              "  </button>\n",
              "\n",
              "<style>\n",
              "  .colab-df-quickchart {\n",
              "      --bg-color: #E8F0FE;\n",
              "      --fill-color: #1967D2;\n",
              "      --hover-bg-color: #E2EBFA;\n",
              "      --hover-fill-color: #174EA6;\n",
              "      --disabled-fill-color: #AAA;\n",
              "      --disabled-bg-color: #DDD;\n",
              "  }\n",
              "\n",
              "  [theme=dark] .colab-df-quickchart {\n",
              "      --bg-color: #3B4455;\n",
              "      --fill-color: #D2E3FC;\n",
              "      --hover-bg-color: #434B5C;\n",
              "      --hover-fill-color: #FFFFFF;\n",
              "      --disabled-bg-color: #3B4455;\n",
              "      --disabled-fill-color: #666;\n",
              "  }\n",
              "\n",
              "  .colab-df-quickchart {\n",
              "    background-color: var(--bg-color);\n",
              "    border: none;\n",
              "    border-radius: 50%;\n",
              "    cursor: pointer;\n",
              "    display: none;\n",
              "    fill: var(--fill-color);\n",
              "    height: 32px;\n",
              "    padding: 0;\n",
              "    width: 32px;\n",
              "  }\n",
              "\n",
              "  .colab-df-quickchart:hover {\n",
              "    background-color: var(--hover-bg-color);\n",
              "    box-shadow: 0 1px 2px rgba(60, 64, 67, 0.3), 0 1px 3px 1px rgba(60, 64, 67, 0.15);\n",
              "    fill: var(--button-hover-fill-color);\n",
              "  }\n",
              "\n",
              "  .colab-df-quickchart-complete:disabled,\n",
              "  .colab-df-quickchart-complete:disabled:hover {\n",
              "    background-color: var(--disabled-bg-color);\n",
              "    fill: var(--disabled-fill-color);\n",
              "    box-shadow: none;\n",
              "  }\n",
              "\n",
              "  .colab-df-spinner {\n",
              "    border: 2px solid var(--fill-color);\n",
              "    border-color: transparent;\n",
              "    border-bottom-color: var(--fill-color);\n",
              "    animation:\n",
              "      spin 1s steps(1) infinite;\n",
              "  }\n",
              "\n",
              "  @keyframes spin {\n",
              "    0% {\n",
              "      border-color: transparent;\n",
              "      border-bottom-color: var(--fill-color);\n",
              "      border-left-color: var(--fill-color);\n",
              "    }\n",
              "    20% {\n",
              "      border-color: transparent;\n",
              "      border-left-color: var(--fill-color);\n",
              "      border-top-color: var(--fill-color);\n",
              "    }\n",
              "    30% {\n",
              "      border-color: transparent;\n",
              "      border-left-color: var(--fill-color);\n",
              "      border-top-color: var(--fill-color);\n",
              "      border-right-color: var(--fill-color);\n",
              "    }\n",
              "    40% {\n",
              "      border-color: transparent;\n",
              "      border-right-color: var(--fill-color);\n",
              "      border-top-color: var(--fill-color);\n",
              "    }\n",
              "    60% {\n",
              "      border-color: transparent;\n",
              "      border-right-color: var(--fill-color);\n",
              "    }\n",
              "    80% {\n",
              "      border-color: transparent;\n",
              "      border-right-color: var(--fill-color);\n",
              "      border-bottom-color: var(--fill-color);\n",
              "    }\n",
              "    90% {\n",
              "      border-color: transparent;\n",
              "      border-bottom-color: var(--fill-color);\n",
              "    }\n",
              "  }\n",
              "</style>\n",
              "\n",
              "  <script>\n",
              "    async function quickchart(key) {\n",
              "      const quickchartButtonEl =\n",
              "        document.querySelector('#' + key + ' button');\n",
              "      quickchartButtonEl.disabled = true;  // To prevent multiple clicks.\n",
              "      quickchartButtonEl.classList.add('colab-df-spinner');\n",
              "      try {\n",
              "        const charts = await google.colab.kernel.invokeFunction(\n",
              "            'suggestCharts', [key], {});\n",
              "      } catch (error) {\n",
              "        console.error('Error during call to suggestCharts:', error);\n",
              "      }\n",
              "      quickchartButtonEl.classList.remove('colab-df-spinner');\n",
              "      quickchartButtonEl.classList.add('colab-df-quickchart-complete');\n",
              "    }\n",
              "    (() => {\n",
              "      let quickchartButtonEl =\n",
              "        document.querySelector('#df-60c7cb7e-b176-4620-9b4d-dd9e934237db button');\n",
              "      quickchartButtonEl.style.display =\n",
              "        google.colab.kernel.accessAllowed ? 'block' : 'none';\n",
              "    })();\n",
              "  </script>\n",
              "</div>\n",
              "\n",
              "    </div>\n",
              "  </div>\n"
            ],
            "application/vnd.google.colaboratory.intrinsic+json": {
              "type": "dataframe",
              "variable_name": "df",
              "summary": "{\n  \"name\": \"df\",\n  \"rows\": 4,\n  \"fields\": [\n    {\n      \"column\": \"cgpa\",\n      \"properties\": {\n        \"dtype\": \"number\",\n        \"std\": 1,\n        \"min\": 5,\n        \"max\": 8,\n        \"num_unique_values\": 4,\n        \"samples\": [\n          7,\n          5,\n          8\n        ],\n        \"semantic_type\": \"\",\n        \"description\": \"\"\n      }\n    },\n    {\n      \"column\": \"Profile_score\",\n      \"properties\": {\n        \"dtype\": \"number\",\n        \"std\": 1,\n        \"min\": 8,\n        \"max\": 12,\n        \"num_unique_values\": 4,\n        \"samples\": [\n          9,\n          12,\n          8\n        ],\n        \"semantic_type\": \"\",\n        \"description\": \"\"\n      }\n    },\n    {\n      \"column\": \"lpa\",\n      \"properties\": {\n        \"dtype\": \"number\",\n        \"std\": 0,\n        \"min\": 0,\n        \"max\": 1,\n        \"num_unique_values\": 2,\n        \"samples\": [\n          0,\n          1\n        ],\n        \"semantic_type\": \"\",\n        \"description\": \"\"\n      }\n    }\n  ]\n}"
            }
          },
          "metadata": {},
          "execution_count": 2
        }
      ]
    },
    {
      "cell_type": "code",
      "source": [
        "def initialize_parameters(layer_dims):\n",
        "\n",
        "  np.random.seed(3)\n",
        "  parameters = {}\n",
        "  L = len(layer_dims)\n",
        "\n",
        "  for l in range(1,L):\n",
        "    parameters['W' + str(l)] = np.ones((layer_dims[l-1],layer_dims[l]))*0.1\n",
        "    parameters['b' + str(l)] = np.zeros((layer_dims[l],1))\n",
        "  return parameters"
      ],
      "metadata": {
        "id": "uofq3eRYUjH5"
      },
      "execution_count": 3,
      "outputs": []
    },
    {
      "cell_type": "code",
      "source": [
        "def sigmoid(z):\n",
        "  return 1/(1+np.exp(-z))"
      ],
      "metadata": {
        "id": "5GsJped3UtPo"
      },
      "execution_count": 4,
      "outputs": []
    },
    {
      "cell_type": "code",
      "source": [
        "def linear_forward(A_prev,W,b):\n",
        "  Z = np.dot(W.T,A_prev) + b\n",
        "  A = sigmoid(Z)\n",
        "  return A"
      ],
      "metadata": {
        "id": "8DSwjagVU5Cf"
      },
      "execution_count": 5,
      "outputs": []
    },
    {
      "cell_type": "code",
      "source": [
        "def L_layer_forward(X,parameters):\n",
        "  A = X\n",
        "  L = len(parameters)//2\n",
        "  for l in range(1,L+1):\n",
        "    A_prev = A\n",
        "    w1 = parameters['W' + str(l)]\n",
        "    b1 = parameters['b' + str(l)]\n",
        "    print(\"A\"+str(l-1)+\":\",A_prev)\n",
        "    print(\"W\"+str(l)+\":\",w1)\n",
        "    print(\"b\"+str(l)+\":\",b1)\n",
        "    print(\"--\"*20)\n",
        "    A = linear_forward(A_prev,w1,b1)\n",
        "    print(\"A\"+str(l)+\":\",A)\n",
        "    print(\"**\"*20)\n",
        "  return A,A_prev"
      ],
      "metadata": {
        "id": "PRNWe8ghVDqH"
      },
      "execution_count": 6,
      "outputs": []
    },
    {
      "cell_type": "code",
      "source": [
        "def update_parameters(parameters,y,y_hat,A1,x):\n",
        "  parameters['W2'][0][0] = parameters['W2'][0][0] + (0.001 * (y- y_hat)*A1[0][0])\n",
        "  parameters['W2'][1][0] = parameters['W2'][1][0] + (0.001 * (y- y_hat)*A1[1][0])\n",
        "  parameters['b2'][0][0] = parameters['W2'][1][0] + (0.001 * (y- y_hat))\n",
        "\n",
        "  parameters['W1'][0][0] = parameters['W1'][0][0] + (0.001 * (y- y_hat)*parameters['W2'][0][0]*A1[0][0]*(1-A1[0][0])*x[0][0])\n",
        "  parameters['W1'][0][1] = parameters['W1'][0][1] + (0.001 * (y- y_hat)*parameters['W2'][0][0]*A1[0][0]*(1-A1[0][0])*x[1][0])\n",
        "  parameters['b1'][0][0] = parameters['b1'][0][0] + (0.001 * (y- y_hat)*parameters['W2'][0][0]*A1[0][0]*(1-A1[0][0]))\n",
        "\n",
        "  parameters['W1'][1][0] = parameters['W1'][1][0] + (0.001 * (y- y_hat)*parameters['W2'][1][0]*A1[1][0]*(1-A1[1][0])*x[0][0])\n",
        "  parameters['W1'][1][1] = parameters['W1'][1][1] + (0.001 * (y- y_hat)*parameters['W2'][1][0]*A1[1][0]*(1-A1[0][0])*x[1][0])\n",
        "  parameters['b1'][1][0] = parameters['b1'][1][0] + (0.001 * (y- y_hat)*parameters['W2'][1][0]*A1[1][0]*(1-A1[1][0]))"
      ],
      "metadata": {
        "id": "P84IQKcJVJu1"
      },
      "execution_count": 7,
      "outputs": []
    },
    {
      "cell_type": "code",
      "source": [
        "x = df[['cgpa','Profile_score']].values[0].reshape(2,1)\n",
        "y = df[['lpa']].values[0][0]\n",
        "\n",
        "parameters = initialize_parameters([2,2,1])\n",
        "y_hat,A1 = L_layer_forward(x,parameters)\n",
        "\n",
        "def update_parameters(parameters,y,y_hat,A1,x):\n",
        "  parameters['W2'][0][0] = parameters['W2'][0][0] + (0.001 * (y- y_hat)*A1[0][0])\n",
        "  parameters['W2'][1][0] = parameters['W2'][1][0] + (0.001 * (y- y_hat)*A1[1][0])\n",
        "  parameters['b2'][0][0] = parameters['W2'][1][0] + (0.001 * (y- y_hat))\n",
        "\n",
        "  parameters['W1'][0][0] = parameters['W1'][0][0] + (0.001 * (y- y_hat)*parameters['W2'][0][0]*A1[0][0]*(1-A1[0][0])*x[0][0])\n",
        "  parameters['W1'][0][1] = parameters['W1'][0][1] + (0.001 * (y- y_hat)*parameters['W2'][0][0]*A1[0][0]*(1-A1[0][0])*x[1][0])\n",
        "  parameters['b1'][0][0] = parameters['b1'][0][0] + (0.001 * (y- y_hat)*parameters['W2'][0][0]*A1[0][0]*(1-A1[0][0]))\n",
        "\n",
        "  parameters['W1'][1][0] = parameters['W1'][1][0] + (0.001 * (y- y_hat)*parameters['W2'][1][0]*A1[1][0]*(1-A1[1][0])*x[0][0])\n",
        "  parameters['W1'][1][1] = parameters['W1'][1][1] + (0.001 * (y- y_hat)*parameters['W2'][1][0]*A1[1][0]*(1-A1[0][0])*x[1][0])\n",
        "  parameters['b1'][1][0] = parameters['b1'][1][0] + (0.001 * (y- y_hat)*parameters['W2'][1][0]*A1[1][0]*(1-A1[1][0]))\n",
        "\n",
        "update_parameters(parameters,y , y_hat,A1,x)\n",
        "\n",
        "parameters"
      ],
      "metadata": {
        "colab": {
          "base_uri": "https://localhost:8080/"
        },
        "id": "-S9SRxS9XHmN",
        "outputId": "3e194d4c-fbeb-41dd-d7fb-d90ba528759f"
      },
      "execution_count": 10,
      "outputs": [
        {
          "output_type": "stream",
          "name": "stdout",
          "text": [
            "A0: [[8]\n",
            " [8]]\n",
            "W1: [[0.1 0.1]\n",
            " [0.1 0.1]]\n",
            "b1: [[0.]\n",
            " [0.]]\n",
            "----------------------------------------\n",
            "A1: [[0.83201839]\n",
            " [0.83201839]]\n",
            "****************************************\n",
            "A1: [[0.83201839]\n",
            " [0.83201839]]\n",
            "W2: [[0.1]\n",
            " [0.1]]\n",
            "b2: [[0.]]\n",
            "----------------------------------------\n",
            "A2: [[0.54150519]]\n",
            "****************************************\n"
          ]
        },
        {
          "output_type": "stream",
          "name": "stderr",
          "text": [
            "<ipython-input-10-0954803ba636>:8: DeprecationWarning: Conversion of an array with ndim > 0 to a scalar is deprecated, and will error in future. Ensure you extract a single element from your array before performing this operation. (Deprecated NumPy 1.25.)\n",
            "  parameters['W2'][0][0] = parameters['W2'][0][0] + (0.001 * (y- y_hat)*A1[0][0])\n",
            "<ipython-input-10-0954803ba636>:9: DeprecationWarning: Conversion of an array with ndim > 0 to a scalar is deprecated, and will error in future. Ensure you extract a single element from your array before performing this operation. (Deprecated NumPy 1.25.)\n",
            "  parameters['W2'][1][0] = parameters['W2'][1][0] + (0.001 * (y- y_hat)*A1[1][0])\n",
            "<ipython-input-10-0954803ba636>:10: DeprecationWarning: Conversion of an array with ndim > 0 to a scalar is deprecated, and will error in future. Ensure you extract a single element from your array before performing this operation. (Deprecated NumPy 1.25.)\n",
            "  parameters['b2'][0][0] = parameters['W2'][1][0] + (0.001 * (y- y_hat))\n",
            "<ipython-input-10-0954803ba636>:12: DeprecationWarning: Conversion of an array with ndim > 0 to a scalar is deprecated, and will error in future. Ensure you extract a single element from your array before performing this operation. (Deprecated NumPy 1.25.)\n",
            "  parameters['W1'][0][0] = parameters['W1'][0][0] + (0.001 * (y- y_hat)*parameters['W2'][0][0]*A1[0][0]*(1-A1[0][0])*x[0][0])\n",
            "<ipython-input-10-0954803ba636>:13: DeprecationWarning: Conversion of an array with ndim > 0 to a scalar is deprecated, and will error in future. Ensure you extract a single element from your array before performing this operation. (Deprecated NumPy 1.25.)\n",
            "  parameters['W1'][0][1] = parameters['W1'][0][1] + (0.001 * (y- y_hat)*parameters['W2'][0][0]*A1[0][0]*(1-A1[0][0])*x[1][0])\n",
            "<ipython-input-10-0954803ba636>:14: DeprecationWarning: Conversion of an array with ndim > 0 to a scalar is deprecated, and will error in future. Ensure you extract a single element from your array before performing this operation. (Deprecated NumPy 1.25.)\n",
            "  parameters['b1'][0][0] = parameters['b1'][0][0] + (0.001 * (y- y_hat)*parameters['W2'][0][0]*A1[0][0]*(1-A1[0][0]))\n",
            "<ipython-input-10-0954803ba636>:16: DeprecationWarning: Conversion of an array with ndim > 0 to a scalar is deprecated, and will error in future. Ensure you extract a single element from your array before performing this operation. (Deprecated NumPy 1.25.)\n",
            "  parameters['W1'][1][0] = parameters['W1'][1][0] + (0.001 * (y- y_hat)*parameters['W2'][1][0]*A1[1][0]*(1-A1[1][0])*x[0][0])\n",
            "<ipython-input-10-0954803ba636>:17: DeprecationWarning: Conversion of an array with ndim > 0 to a scalar is deprecated, and will error in future. Ensure you extract a single element from your array before performing this operation. (Deprecated NumPy 1.25.)\n",
            "  parameters['W1'][1][1] = parameters['W1'][1][1] + (0.001 * (y- y_hat)*parameters['W2'][1][0]*A1[1][0]*(1-A1[0][0])*x[1][0])\n",
            "<ipython-input-10-0954803ba636>:18: DeprecationWarning: Conversion of an array with ndim > 0 to a scalar is deprecated, and will error in future. Ensure you extract a single element from your array before performing this operation. (Deprecated NumPy 1.25.)\n",
            "  parameters['b1'][1][0] = parameters['b1'][1][0] + (0.001 * (y- y_hat)*parameters['W2'][1][0]*A1[1][0]*(1-A1[1][0]))\n"
          ]
        },
        {
          "output_type": "execute_result",
          "data": {
            "text/plain": [
              "{'W1': array([[0.10005146, 0.10005146],\n",
              "        [0.10005146, 0.10005146]]),\n",
              " 'b1': array([[6.43254269e-06],\n",
              "        [6.43254269e-06]]),\n",
              " 'W2': array([[0.10038148],\n",
              "        [0.10038148]]),\n",
              " 'b2': array([[0.10083997]])}"
            ]
          },
          "metadata": {},
          "execution_count": 10
        }
      ]
    },
    {
      "cell_type": "code",
      "source": [
        "x = df[['cgpa','Profile_score']].values[1].reshape(2,1)\n",
        "y = df[['lpa']].values[1][0]\n",
        "\n",
        "parameters = initialize_parameters([2,2,1])\n",
        "y_hat,A1 = L_layer_forward(x,parameters)\n",
        "\n",
        "def update_parameters(parameters,y,y_hat,A1,x):\n",
        "  parameters['W2'][0][0] = parameters['W2'][0][0] + (0.001 * (y- y_hat)*A1[0][0])\n",
        "  parameters['W2'][1][0] = parameters['W2'][1][0] + (0.001 * (y- y_hat)*A1[1][0])\n",
        "  parameters['b2'][0][0] = parameters['W2'][1][0] + (0.001 * (y- y_hat))\n",
        "\n",
        "  parameters['W1'][0][0] = parameters['W1'][0][0] + (0.001 * (y- y_hat)*parameters['W2'][0][0]*A1[0][0]*(1-A1[0][0])*x[0][0])\n",
        "  parameters['W1'][0][1] = parameters['W1'][0][1] + (0.001 * (y- y_hat)*parameters['W2'][0][0]*A1[0][0]*(1-A1[0][0])*x[1][0])\n",
        "  parameters['b1'][0][0] = parameters['b1'][0][0] + (0.001 * (y- y_hat)*parameters['W2'][0][0]*A1[0][0]*(1-A1[0][0]))\n",
        "\n",
        "  parameters['W1'][1][0] = parameters['W1'][1][0] + (0.001 * (y- y_hat)*parameters['W2'][1][0]*A1[1][0]*(1-A1[1][0])*x[0][0])\n",
        "  parameters['W1'][1][1] = parameters['W1'][1][1] + (0.001 * (y- y_hat)*parameters['W2'][1][0]*A1[1][0]*(1-A1[0][0])*x[1][0])\n",
        "  parameters['b1'][1][0] = parameters['b1'][1][0] + (0.001 * (y- y_hat)*parameters['W2'][1][0]*A1[1][0]*(1-A1[1][0]))\n",
        "\n",
        "update_parameters(parameters,y , y_hat,A1,x)\n",
        "\n",
        "parameters"
      ],
      "metadata": {
        "colab": {
          "base_uri": "https://localhost:8080/"
        },
        "id": "mYvVcDbfXvP0",
        "outputId": "d23a3847-ff53-4948-b29c-2fc942df0bb5"
      },
      "execution_count": 11,
      "outputs": [
        {
          "output_type": "stream",
          "name": "stdout",
          "text": [
            "A0: [[7]\n",
            " [9]]\n",
            "W1: [[0.1 0.1]\n",
            " [0.1 0.1]]\n",
            "b1: [[0.]\n",
            " [0.]]\n",
            "----------------------------------------\n",
            "A1: [[0.83201839]\n",
            " [0.83201839]]\n",
            "****************************************\n",
            "A1: [[0.83201839]\n",
            " [0.83201839]]\n",
            "W2: [[0.1]\n",
            " [0.1]]\n",
            "b2: [[0.]]\n",
            "----------------------------------------\n",
            "A2: [[0.54150519]]\n",
            "****************************************\n"
          ]
        },
        {
          "output_type": "stream",
          "name": "stderr",
          "text": [
            "<ipython-input-11-accff53ed23e>:8: DeprecationWarning: Conversion of an array with ndim > 0 to a scalar is deprecated, and will error in future. Ensure you extract a single element from your array before performing this operation. (Deprecated NumPy 1.25.)\n",
            "  parameters['W2'][0][0] = parameters['W2'][0][0] + (0.001 * (y- y_hat)*A1[0][0])\n",
            "<ipython-input-11-accff53ed23e>:9: DeprecationWarning: Conversion of an array with ndim > 0 to a scalar is deprecated, and will error in future. Ensure you extract a single element from your array before performing this operation. (Deprecated NumPy 1.25.)\n",
            "  parameters['W2'][1][0] = parameters['W2'][1][0] + (0.001 * (y- y_hat)*A1[1][0])\n",
            "<ipython-input-11-accff53ed23e>:10: DeprecationWarning: Conversion of an array with ndim > 0 to a scalar is deprecated, and will error in future. Ensure you extract a single element from your array before performing this operation. (Deprecated NumPy 1.25.)\n",
            "  parameters['b2'][0][0] = parameters['W2'][1][0] + (0.001 * (y- y_hat))\n",
            "<ipython-input-11-accff53ed23e>:12: DeprecationWarning: Conversion of an array with ndim > 0 to a scalar is deprecated, and will error in future. Ensure you extract a single element from your array before performing this operation. (Deprecated NumPy 1.25.)\n",
            "  parameters['W1'][0][0] = parameters['W1'][0][0] + (0.001 * (y- y_hat)*parameters['W2'][0][0]*A1[0][0]*(1-A1[0][0])*x[0][0])\n",
            "<ipython-input-11-accff53ed23e>:13: DeprecationWarning: Conversion of an array with ndim > 0 to a scalar is deprecated, and will error in future. Ensure you extract a single element from your array before performing this operation. (Deprecated NumPy 1.25.)\n",
            "  parameters['W1'][0][1] = parameters['W1'][0][1] + (0.001 * (y- y_hat)*parameters['W2'][0][0]*A1[0][0]*(1-A1[0][0])*x[1][0])\n",
            "<ipython-input-11-accff53ed23e>:14: DeprecationWarning: Conversion of an array with ndim > 0 to a scalar is deprecated, and will error in future. Ensure you extract a single element from your array before performing this operation. (Deprecated NumPy 1.25.)\n",
            "  parameters['b1'][0][0] = parameters['b1'][0][0] + (0.001 * (y- y_hat)*parameters['W2'][0][0]*A1[0][0]*(1-A1[0][0]))\n",
            "<ipython-input-11-accff53ed23e>:16: DeprecationWarning: Conversion of an array with ndim > 0 to a scalar is deprecated, and will error in future. Ensure you extract a single element from your array before performing this operation. (Deprecated NumPy 1.25.)\n",
            "  parameters['W1'][1][0] = parameters['W1'][1][0] + (0.001 * (y- y_hat)*parameters['W2'][1][0]*A1[1][0]*(1-A1[1][0])*x[0][0])\n",
            "<ipython-input-11-accff53ed23e>:17: DeprecationWarning: Conversion of an array with ndim > 0 to a scalar is deprecated, and will error in future. Ensure you extract a single element from your array before performing this operation. (Deprecated NumPy 1.25.)\n",
            "  parameters['W1'][1][1] = parameters['W1'][1][1] + (0.001 * (y- y_hat)*parameters['W2'][1][0]*A1[1][0]*(1-A1[0][0])*x[1][0])\n",
            "<ipython-input-11-accff53ed23e>:18: DeprecationWarning: Conversion of an array with ndim > 0 to a scalar is deprecated, and will error in future. Ensure you extract a single element from your array before performing this operation. (Deprecated NumPy 1.25.)\n",
            "  parameters['b1'][1][0] = parameters['b1'][1][0] + (0.001 * (y- y_hat)*parameters['W2'][1][0]*A1[1][0]*(1-A1[1][0]))\n"
          ]
        },
        {
          "output_type": "execute_result",
          "data": {
            "text/plain": [
              "{'W1': array([[0.10004503, 0.10005789],\n",
              "        [0.10004503, 0.10005789]]),\n",
              " 'b1': array([[6.43254269e-06],\n",
              "        [6.43254269e-06]]),\n",
              " 'W2': array([[0.10038148],\n",
              "        [0.10038148]]),\n",
              " 'b2': array([[0.10083997]])}"
            ]
          },
          "metadata": {},
          "execution_count": 11
        }
      ]
    },
    {
      "cell_type": "code",
      "source": [
        "x = df[['cgpa','Profile_score']].values[2].reshape(2,1)\n",
        "y = df[['lpa']].values[2][0]\n",
        "\n",
        "parameters = initialize_parameters([2,2,1])\n",
        "y_hat,A1 = L_layer_forward(x,parameters)\n",
        "\n",
        "def update_parameters(parameters,y,y_hat,A1,x):\n",
        "  parameters['W2'][0][0] = parameters['W2'][0][0] + (0.001 * (y- y_hat)*A1[0][0])\n",
        "  parameters['W2'][1][0] = parameters['W2'][1][0] + (0.001 * (y- y_hat)*A1[1][0])\n",
        "  parameters['b2'][0][0] = parameters['W2'][1][0] + (0.001 * (y- y_hat))\n",
        "\n",
        "  parameters['W1'][0][0] = parameters['W1'][0][0] + (0.001 * (y- y_hat)*parameters['W2'][0][0]*A1[0][0]*(1-A1[0][0])*x[0][0])\n",
        "  parameters['W1'][0][1] = parameters['W1'][0][1] + (0.001 * (y- y_hat)*parameters['W2'][0][0]*A1[0][0]*(1-A1[0][0])*x[1][0])\n",
        "  parameters['b1'][0][0] = parameters['b1'][0][0] + (0.001 * (y- y_hat)*parameters['W2'][0][0]*A1[0][0]*(1-A1[0][0]))\n",
        "\n",
        "  parameters['W1'][1][0] = parameters['W1'][1][0] + (0.001 * (y- y_hat)*parameters['W2'][1][0]*A1[1][0]*(1-A1[1][0])*x[0][0])\n",
        "  parameters['W1'][1][1] = parameters['W1'][1][1] + (0.001 * (y- y_hat)*parameters['W2'][1][0]*A1[1][0]*(1-A1[0][0])*x[1][0])\n",
        "  parameters['b1'][1][0] = parameters['b1'][1][0] + (0.001 * (y- y_hat)*parameters['W2'][1][0]*A1[1][0]*(1-A1[1][0]))\n",
        "\n",
        "update_parameters(parameters,y , y_hat,A1,x)\n",
        "\n",
        "parameters"
      ],
      "metadata": {
        "colab": {
          "base_uri": "https://localhost:8080/"
        },
        "id": "-q12N91BXx8-",
        "outputId": "87b32b12-1c84-4fc0-c230-f9779698e9fc"
      },
      "execution_count": 12,
      "outputs": [
        {
          "output_type": "stream",
          "name": "stdout",
          "text": [
            "A0: [[ 6]\n",
            " [10]]\n",
            "W1: [[0.1 0.1]\n",
            " [0.1 0.1]]\n",
            "b1: [[0.]\n",
            " [0.]]\n",
            "----------------------------------------\n",
            "A1: [[0.83201839]\n",
            " [0.83201839]]\n",
            "****************************************\n",
            "A1: [[0.83201839]\n",
            " [0.83201839]]\n",
            "W2: [[0.1]\n",
            " [0.1]]\n",
            "b2: [[0.]]\n",
            "----------------------------------------\n",
            "A2: [[0.54150519]]\n",
            "****************************************\n"
          ]
        },
        {
          "output_type": "stream",
          "name": "stderr",
          "text": [
            "<ipython-input-12-af298716d2da>:8: DeprecationWarning: Conversion of an array with ndim > 0 to a scalar is deprecated, and will error in future. Ensure you extract a single element from your array before performing this operation. (Deprecated NumPy 1.25.)\n",
            "  parameters['W2'][0][0] = parameters['W2'][0][0] + (0.001 * (y- y_hat)*A1[0][0])\n",
            "<ipython-input-12-af298716d2da>:9: DeprecationWarning: Conversion of an array with ndim > 0 to a scalar is deprecated, and will error in future. Ensure you extract a single element from your array before performing this operation. (Deprecated NumPy 1.25.)\n",
            "  parameters['W2'][1][0] = parameters['W2'][1][0] + (0.001 * (y- y_hat)*A1[1][0])\n",
            "<ipython-input-12-af298716d2da>:10: DeprecationWarning: Conversion of an array with ndim > 0 to a scalar is deprecated, and will error in future. Ensure you extract a single element from your array before performing this operation. (Deprecated NumPy 1.25.)\n",
            "  parameters['b2'][0][0] = parameters['W2'][1][0] + (0.001 * (y- y_hat))\n",
            "<ipython-input-12-af298716d2da>:12: DeprecationWarning: Conversion of an array with ndim > 0 to a scalar is deprecated, and will error in future. Ensure you extract a single element from your array before performing this operation. (Deprecated NumPy 1.25.)\n",
            "  parameters['W1'][0][0] = parameters['W1'][0][0] + (0.001 * (y- y_hat)*parameters['W2'][0][0]*A1[0][0]*(1-A1[0][0])*x[0][0])\n",
            "<ipython-input-12-af298716d2da>:13: DeprecationWarning: Conversion of an array with ndim > 0 to a scalar is deprecated, and will error in future. Ensure you extract a single element from your array before performing this operation. (Deprecated NumPy 1.25.)\n",
            "  parameters['W1'][0][1] = parameters['W1'][0][1] + (0.001 * (y- y_hat)*parameters['W2'][0][0]*A1[0][0]*(1-A1[0][0])*x[1][0])\n",
            "<ipython-input-12-af298716d2da>:14: DeprecationWarning: Conversion of an array with ndim > 0 to a scalar is deprecated, and will error in future. Ensure you extract a single element from your array before performing this operation. (Deprecated NumPy 1.25.)\n",
            "  parameters['b1'][0][0] = parameters['b1'][0][0] + (0.001 * (y- y_hat)*parameters['W2'][0][0]*A1[0][0]*(1-A1[0][0]))\n",
            "<ipython-input-12-af298716d2da>:16: DeprecationWarning: Conversion of an array with ndim > 0 to a scalar is deprecated, and will error in future. Ensure you extract a single element from your array before performing this operation. (Deprecated NumPy 1.25.)\n",
            "  parameters['W1'][1][0] = parameters['W1'][1][0] + (0.001 * (y- y_hat)*parameters['W2'][1][0]*A1[1][0]*(1-A1[1][0])*x[0][0])\n",
            "<ipython-input-12-af298716d2da>:17: DeprecationWarning: Conversion of an array with ndim > 0 to a scalar is deprecated, and will error in future. Ensure you extract a single element from your array before performing this operation. (Deprecated NumPy 1.25.)\n",
            "  parameters['W1'][1][1] = parameters['W1'][1][1] + (0.001 * (y- y_hat)*parameters['W2'][1][0]*A1[1][0]*(1-A1[0][0])*x[1][0])\n",
            "<ipython-input-12-af298716d2da>:18: DeprecationWarning: Conversion of an array with ndim > 0 to a scalar is deprecated, and will error in future. Ensure you extract a single element from your array before performing this operation. (Deprecated NumPy 1.25.)\n",
            "  parameters['b1'][1][0] = parameters['b1'][1][0] + (0.001 * (y- y_hat)*parameters['W2'][1][0]*A1[1][0]*(1-A1[1][0]))\n"
          ]
        },
        {
          "output_type": "execute_result",
          "data": {
            "text/plain": [
              "{'W1': array([[0.09995479, 0.09992466],\n",
              "        [0.09995479, 0.09992466]]),\n",
              " 'b1': array([[-7.53418356e-06],\n",
              "        [-7.53418356e-06]]),\n",
              " 'W2': array([[0.09954946],\n",
              "        [0.09954946]]),\n",
              " 'b2': array([[0.09900795]])}"
            ]
          },
          "metadata": {},
          "execution_count": 12
        }
      ]
    },
    {
      "cell_type": "code",
      "source": [
        "x = df[['cgpa','Profile_score']].values[3].reshape(2,1)\n",
        "y = df[['lpa']].values[3][0]\n",
        "\n",
        "parameters = initialize_parameters([2,2,1])\n",
        "y_hat,A1 = L_layer_forward(x,parameters)\n",
        "\n",
        "def update_parameters(parameters,y,y_hat,A1,x):\n",
        "  parameters['W2'][0][0] = parameters['W2'][0][0] + (0.001 * (y- y_hat)*A1[0][0])\n",
        "  parameters['W2'][1][0] = parameters['W2'][1][0] + (0.001 * (y- y_hat)*A1[1][0])\n",
        "  parameters['b2'][0][0] = parameters['W2'][1][0] + (0.001 * (y- y_hat))\n",
        "\n",
        "  parameters['W1'][0][0] = parameters['W1'][0][0] + (0.001 * (y- y_hat)*parameters['W2'][0][0]*A1[0][0]*(1-A1[0][0])*x[0][0])\n",
        "  parameters['W1'][0][1] = parameters['W1'][0][1] + (0.001 * (y- y_hat)*parameters['W2'][0][0]*A1[0][0]*(1-A1[0][0])*x[1][0])\n",
        "  parameters['b1'][0][0] = parameters['b1'][0][0] + (0.001 * (y- y_hat)*parameters['W2'][0][0]*A1[0][0]*(1-A1[0][0]))\n",
        "\n",
        "  parameters['W1'][1][0] = parameters['W1'][1][0] + (0.001 * (y- y_hat)*parameters['W2'][1][0]*A1[1][0]*(1-A1[1][0])*x[0][0])\n",
        "  parameters['W1'][1][1] = parameters['W1'][1][1] + (0.001 * (y- y_hat)*parameters['W2'][1][0]*A1[1][0]*(1-A1[0][0])*x[1][0])\n",
        "  parameters['b1'][1][0] = parameters['b1'][1][0] + (0.001 * (y- y_hat)*parameters['W2'][1][0]*A1[1][0]*(1-A1[1][0]))\n",
        "\n",
        "update_parameters(parameters,y , y_hat,A1,x)\n",
        "\n",
        "parameters"
      ],
      "metadata": {
        "colab": {
          "base_uri": "https://localhost:8080/"
        },
        "id": "u6YRCm3RYXQT",
        "outputId": "3884897d-4358-4ebc-efaf-d1f4ba95bf6d"
      },
      "execution_count": 13,
      "outputs": [
        {
          "output_type": "stream",
          "name": "stdout",
          "text": [
            "A0: [[ 5]\n",
            " [12]]\n",
            "W1: [[0.1 0.1]\n",
            " [0.1 0.1]]\n",
            "b1: [[0.]\n",
            " [0.]]\n",
            "----------------------------------------\n",
            "A1: [[0.84553473]\n",
            " [0.84553473]]\n",
            "****************************************\n",
            "A1: [[0.84553473]\n",
            " [0.84553473]]\n",
            "W2: [[0.1]\n",
            " [0.1]]\n",
            "b2: [[0.]]\n",
            "----------------------------------------\n",
            "A2: [[0.54217627]]\n",
            "****************************************\n"
          ]
        },
        {
          "output_type": "stream",
          "name": "stderr",
          "text": [
            "<ipython-input-13-ce6cad9a7756>:8: DeprecationWarning: Conversion of an array with ndim > 0 to a scalar is deprecated, and will error in future. Ensure you extract a single element from your array before performing this operation. (Deprecated NumPy 1.25.)\n",
            "  parameters['W2'][0][0] = parameters['W2'][0][0] + (0.001 * (y- y_hat)*A1[0][0])\n",
            "<ipython-input-13-ce6cad9a7756>:9: DeprecationWarning: Conversion of an array with ndim > 0 to a scalar is deprecated, and will error in future. Ensure you extract a single element from your array before performing this operation. (Deprecated NumPy 1.25.)\n",
            "  parameters['W2'][1][0] = parameters['W2'][1][0] + (0.001 * (y- y_hat)*A1[1][0])\n",
            "<ipython-input-13-ce6cad9a7756>:10: DeprecationWarning: Conversion of an array with ndim > 0 to a scalar is deprecated, and will error in future. Ensure you extract a single element from your array before performing this operation. (Deprecated NumPy 1.25.)\n",
            "  parameters['b2'][0][0] = parameters['W2'][1][0] + (0.001 * (y- y_hat))\n",
            "<ipython-input-13-ce6cad9a7756>:12: DeprecationWarning: Conversion of an array with ndim > 0 to a scalar is deprecated, and will error in future. Ensure you extract a single element from your array before performing this operation. (Deprecated NumPy 1.25.)\n",
            "  parameters['W1'][0][0] = parameters['W1'][0][0] + (0.001 * (y- y_hat)*parameters['W2'][0][0]*A1[0][0]*(1-A1[0][0])*x[0][0])\n",
            "<ipython-input-13-ce6cad9a7756>:13: DeprecationWarning: Conversion of an array with ndim > 0 to a scalar is deprecated, and will error in future. Ensure you extract a single element from your array before performing this operation. (Deprecated NumPy 1.25.)\n",
            "  parameters['W1'][0][1] = parameters['W1'][0][1] + (0.001 * (y- y_hat)*parameters['W2'][0][0]*A1[0][0]*(1-A1[0][0])*x[1][0])\n",
            "<ipython-input-13-ce6cad9a7756>:14: DeprecationWarning: Conversion of an array with ndim > 0 to a scalar is deprecated, and will error in future. Ensure you extract a single element from your array before performing this operation. (Deprecated NumPy 1.25.)\n",
            "  parameters['b1'][0][0] = parameters['b1'][0][0] + (0.001 * (y- y_hat)*parameters['W2'][0][0]*A1[0][0]*(1-A1[0][0]))\n",
            "<ipython-input-13-ce6cad9a7756>:16: DeprecationWarning: Conversion of an array with ndim > 0 to a scalar is deprecated, and will error in future. Ensure you extract a single element from your array before performing this operation. (Deprecated NumPy 1.25.)\n",
            "  parameters['W1'][1][0] = parameters['W1'][1][0] + (0.001 * (y- y_hat)*parameters['W2'][1][0]*A1[1][0]*(1-A1[1][0])*x[0][0])\n",
            "<ipython-input-13-ce6cad9a7756>:17: DeprecationWarning: Conversion of an array with ndim > 0 to a scalar is deprecated, and will error in future. Ensure you extract a single element from your array before performing this operation. (Deprecated NumPy 1.25.)\n",
            "  parameters['W1'][1][1] = parameters['W1'][1][1] + (0.001 * (y- y_hat)*parameters['W2'][1][0]*A1[1][0]*(1-A1[0][0])*x[1][0])\n",
            "<ipython-input-13-ce6cad9a7756>:18: DeprecationWarning: Conversion of an array with ndim > 0 to a scalar is deprecated, and will error in future. Ensure you extract a single element from your array before performing this operation. (Deprecated NumPy 1.25.)\n",
            "  parameters['b1'][1][0] = parameters['b1'][1][0] + (0.001 * (y- y_hat)*parameters['W2'][1][0]*A1[1][0]*(1-A1[1][0]))\n"
          ]
        },
        {
          "output_type": "execute_result",
          "data": {
            "text/plain": [
              "{'W1': array([[0.09996476, 0.09991542],\n",
              "        [0.09996476, 0.09991542]]),\n",
              " 'b1': array([[-7.04867177e-06],\n",
              "        [-7.04867177e-06]]),\n",
              " 'W2': array([[0.09954157],\n",
              "        [0.09954157]]),\n",
              " 'b2': array([[0.09899939]])}"
            ]
          },
          "metadata": {},
          "execution_count": 13
        }
      ]
    },
    {
      "cell_type": "code",
      "source": [],
      "metadata": {
        "id": "6LrGH-9IYaIJ"
      },
      "execution_count": null,
      "outputs": []
    }
  ]
}