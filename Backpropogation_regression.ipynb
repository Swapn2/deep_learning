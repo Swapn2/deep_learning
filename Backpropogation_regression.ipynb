{
  "nbformat": 4,
  "nbformat_minor": 0,
  "metadata": {
    "colab": {
      "provenance": [],
      "authorship_tag": "ABX9TyNK/upmsZILTHwzQQO38h1X",
      "include_colab_link": true
    },
    "kernelspec": {
      "name": "python3",
      "display_name": "Python 3"
    },
    "language_info": {
      "name": "python"
    }
  },
  "cells": [
    {
      "cell_type": "markdown",
      "metadata": {
        "id": "view-in-github",
        "colab_type": "text"
      },
      "source": [
        "<a href=\"https://colab.research.google.com/github/Swapn2/deep_learning/blob/main/Backpropogation_regression.ipynb\" target=\"_parent\"><img src=\"https://colab.research.google.com/assets/colab-badge.svg\" alt=\"Open In Colab\"/></a>"
      ]
    },
    {
      "cell_type": "code",
      "source": [
        "import pandas as pd\n",
        "import numpy as np"
      ],
      "metadata": {
        "id": "b1g8-BuqjMmn"
      },
      "execution_count": 1,
      "outputs": []
    },
    {
      "cell_type": "code",
      "source": [
        "df = pd.DataFrame([[8,8,4],[7,9,5],[6,10,6],[5,12,7]] , columns = ['cgpa','Profile_score','lpa'])\n",
        "df"
      ],
      "metadata": {
        "colab": {
          "base_uri": "https://localhost:8080/",
          "height": 174
        },
        "id": "W9ScCQfXjXgo",
        "outputId": "e6b8fbb8-bfc7-4e89-de04-53bcabef9db2"
      },
      "execution_count": 24,
      "outputs": [
        {
          "output_type": "execute_result",
          "data": {
            "text/plain": [
              "   cgpa  Profile_score  lpa\n",
              "0     8              8    4\n",
              "1     7              9    5\n",
              "2     6             10    6\n",
              "3     5             12    7"
            ],
            "text/html": [
              "\n",
              "  <div id=\"df-73ca5935-c1d3-424b-b72e-35e6ea92bd19\" class=\"colab-df-container\">\n",
              "    <div>\n",
              "<style scoped>\n",
              "    .dataframe tbody tr th:only-of-type {\n",
              "        vertical-align: middle;\n",
              "    }\n",
              "\n",
              "    .dataframe tbody tr th {\n",
              "        vertical-align: top;\n",
              "    }\n",
              "\n",
              "    .dataframe thead th {\n",
              "        text-align: right;\n",
              "    }\n",
              "</style>\n",
              "<table border=\"1\" class=\"dataframe\">\n",
              "  <thead>\n",
              "    <tr style=\"text-align: right;\">\n",
              "      <th></th>\n",
              "      <th>cgpa</th>\n",
              "      <th>Profile_score</th>\n",
              "      <th>lpa</th>\n",
              "    </tr>\n",
              "  </thead>\n",
              "  <tbody>\n",
              "    <tr>\n",
              "      <th>0</th>\n",
              "      <td>8</td>\n",
              "      <td>8</td>\n",
              "      <td>4</td>\n",
              "    </tr>\n",
              "    <tr>\n",
              "      <th>1</th>\n",
              "      <td>7</td>\n",
              "      <td>9</td>\n",
              "      <td>5</td>\n",
              "    </tr>\n",
              "    <tr>\n",
              "      <th>2</th>\n",
              "      <td>6</td>\n",
              "      <td>10</td>\n",
              "      <td>6</td>\n",
              "    </tr>\n",
              "    <tr>\n",
              "      <th>3</th>\n",
              "      <td>5</td>\n",
              "      <td>12</td>\n",
              "      <td>7</td>\n",
              "    </tr>\n",
              "  </tbody>\n",
              "</table>\n",
              "</div>\n",
              "    <div class=\"colab-df-buttons\">\n",
              "\n",
              "  <div class=\"colab-df-container\">\n",
              "    <button class=\"colab-df-convert\" onclick=\"convertToInteractive('df-73ca5935-c1d3-424b-b72e-35e6ea92bd19')\"\n",
              "            title=\"Convert this dataframe to an interactive table.\"\n",
              "            style=\"display:none;\">\n",
              "\n",
              "  <svg xmlns=\"http://www.w3.org/2000/svg\" height=\"24px\" viewBox=\"0 -960 960 960\">\n",
              "    <path d=\"M120-120v-720h720v720H120Zm60-500h600v-160H180v160Zm220 220h160v-160H400v160Zm0 220h160v-160H400v160ZM180-400h160v-160H180v160Zm440 0h160v-160H620v160ZM180-180h160v-160H180v160Zm440 0h160v-160H620v160Z\"/>\n",
              "  </svg>\n",
              "    </button>\n",
              "\n",
              "  <style>\n",
              "    .colab-df-container {\n",
              "      display:flex;\n",
              "      gap: 12px;\n",
              "    }\n",
              "\n",
              "    .colab-df-convert {\n",
              "      background-color: #E8F0FE;\n",
              "      border: none;\n",
              "      border-radius: 50%;\n",
              "      cursor: pointer;\n",
              "      display: none;\n",
              "      fill: #1967D2;\n",
              "      height: 32px;\n",
              "      padding: 0 0 0 0;\n",
              "      width: 32px;\n",
              "    }\n",
              "\n",
              "    .colab-df-convert:hover {\n",
              "      background-color: #E2EBFA;\n",
              "      box-shadow: 0px 1px 2px rgba(60, 64, 67, 0.3), 0px 1px 3px 1px rgba(60, 64, 67, 0.15);\n",
              "      fill: #174EA6;\n",
              "    }\n",
              "\n",
              "    .colab-df-buttons div {\n",
              "      margin-bottom: 4px;\n",
              "    }\n",
              "\n",
              "    [theme=dark] .colab-df-convert {\n",
              "      background-color: #3B4455;\n",
              "      fill: #D2E3FC;\n",
              "    }\n",
              "\n",
              "    [theme=dark] .colab-df-convert:hover {\n",
              "      background-color: #434B5C;\n",
              "      box-shadow: 0px 1px 3px 1px rgba(0, 0, 0, 0.15);\n",
              "      filter: drop-shadow(0px 1px 2px rgba(0, 0, 0, 0.3));\n",
              "      fill: #FFFFFF;\n",
              "    }\n",
              "  </style>\n",
              "\n",
              "    <script>\n",
              "      const buttonEl =\n",
              "        document.querySelector('#df-73ca5935-c1d3-424b-b72e-35e6ea92bd19 button.colab-df-convert');\n",
              "      buttonEl.style.display =\n",
              "        google.colab.kernel.accessAllowed ? 'block' : 'none';\n",
              "\n",
              "      async function convertToInteractive(key) {\n",
              "        const element = document.querySelector('#df-73ca5935-c1d3-424b-b72e-35e6ea92bd19');\n",
              "        const dataTable =\n",
              "          await google.colab.kernel.invokeFunction('convertToInteractive',\n",
              "                                                    [key], {});\n",
              "        if (!dataTable) return;\n",
              "\n",
              "        const docLinkHtml = 'Like what you see? Visit the ' +\n",
              "          '<a target=\"_blank\" href=https://colab.research.google.com/notebooks/data_table.ipynb>data table notebook</a>'\n",
              "          + ' to learn more about interactive tables.';\n",
              "        element.innerHTML = '';\n",
              "        dataTable['output_type'] = 'display_data';\n",
              "        await google.colab.output.renderOutput(dataTable, element);\n",
              "        const docLink = document.createElement('div');\n",
              "        docLink.innerHTML = docLinkHtml;\n",
              "        element.appendChild(docLink);\n",
              "      }\n",
              "    </script>\n",
              "  </div>\n",
              "\n",
              "\n",
              "    <div id=\"df-a2bcc3f2-d5b5-47cb-b4fa-e0e297a73e28\">\n",
              "      <button class=\"colab-df-quickchart\" onclick=\"quickchart('df-a2bcc3f2-d5b5-47cb-b4fa-e0e297a73e28')\"\n",
              "                title=\"Suggest charts\"\n",
              "                style=\"display:none;\">\n",
              "\n",
              "<svg xmlns=\"http://www.w3.org/2000/svg\" height=\"24px\"viewBox=\"0 0 24 24\"\n",
              "     width=\"24px\">\n",
              "    <g>\n",
              "        <path d=\"M19 3H5c-1.1 0-2 .9-2 2v14c0 1.1.9 2 2 2h14c1.1 0 2-.9 2-2V5c0-1.1-.9-2-2-2zM9 17H7v-7h2v7zm4 0h-2V7h2v10zm4 0h-2v-4h2v4z\"/>\n",
              "    </g>\n",
              "</svg>\n",
              "      </button>\n",
              "\n",
              "<style>\n",
              "  .colab-df-quickchart {\n",
              "      --bg-color: #E8F0FE;\n",
              "      --fill-color: #1967D2;\n",
              "      --hover-bg-color: #E2EBFA;\n",
              "      --hover-fill-color: #174EA6;\n",
              "      --disabled-fill-color: #AAA;\n",
              "      --disabled-bg-color: #DDD;\n",
              "  }\n",
              "\n",
              "  [theme=dark] .colab-df-quickchart {\n",
              "      --bg-color: #3B4455;\n",
              "      --fill-color: #D2E3FC;\n",
              "      --hover-bg-color: #434B5C;\n",
              "      --hover-fill-color: #FFFFFF;\n",
              "      --disabled-bg-color: #3B4455;\n",
              "      --disabled-fill-color: #666;\n",
              "  }\n",
              "\n",
              "  .colab-df-quickchart {\n",
              "    background-color: var(--bg-color);\n",
              "    border: none;\n",
              "    border-radius: 50%;\n",
              "    cursor: pointer;\n",
              "    display: none;\n",
              "    fill: var(--fill-color);\n",
              "    height: 32px;\n",
              "    padding: 0;\n",
              "    width: 32px;\n",
              "  }\n",
              "\n",
              "  .colab-df-quickchart:hover {\n",
              "    background-color: var(--hover-bg-color);\n",
              "    box-shadow: 0 1px 2px rgba(60, 64, 67, 0.3), 0 1px 3px 1px rgba(60, 64, 67, 0.15);\n",
              "    fill: var(--button-hover-fill-color);\n",
              "  }\n",
              "\n",
              "  .colab-df-quickchart-complete:disabled,\n",
              "  .colab-df-quickchart-complete:disabled:hover {\n",
              "    background-color: var(--disabled-bg-color);\n",
              "    fill: var(--disabled-fill-color);\n",
              "    box-shadow: none;\n",
              "  }\n",
              "\n",
              "  .colab-df-spinner {\n",
              "    border: 2px solid var(--fill-color);\n",
              "    border-color: transparent;\n",
              "    border-bottom-color: var(--fill-color);\n",
              "    animation:\n",
              "      spin 1s steps(1) infinite;\n",
              "  }\n",
              "\n",
              "  @keyframes spin {\n",
              "    0% {\n",
              "      border-color: transparent;\n",
              "      border-bottom-color: var(--fill-color);\n",
              "      border-left-color: var(--fill-color);\n",
              "    }\n",
              "    20% {\n",
              "      border-color: transparent;\n",
              "      border-left-color: var(--fill-color);\n",
              "      border-top-color: var(--fill-color);\n",
              "    }\n",
              "    30% {\n",
              "      border-color: transparent;\n",
              "      border-left-color: var(--fill-color);\n",
              "      border-top-color: var(--fill-color);\n",
              "      border-right-color: var(--fill-color);\n",
              "    }\n",
              "    40% {\n",
              "      border-color: transparent;\n",
              "      border-right-color: var(--fill-color);\n",
              "      border-top-color: var(--fill-color);\n",
              "    }\n",
              "    60% {\n",
              "      border-color: transparent;\n",
              "      border-right-color: var(--fill-color);\n",
              "    }\n",
              "    80% {\n",
              "      border-color: transparent;\n",
              "      border-right-color: var(--fill-color);\n",
              "      border-bottom-color: var(--fill-color);\n",
              "    }\n",
              "    90% {\n",
              "      border-color: transparent;\n",
              "      border-bottom-color: var(--fill-color);\n",
              "    }\n",
              "  }\n",
              "</style>\n",
              "\n",
              "      <script>\n",
              "        async function quickchart(key) {\n",
              "          const quickchartButtonEl =\n",
              "            document.querySelector('#' + key + ' button');\n",
              "          quickchartButtonEl.disabled = true;  // To prevent multiple clicks.\n",
              "          quickchartButtonEl.classList.add('colab-df-spinner');\n",
              "          try {\n",
              "            const charts = await google.colab.kernel.invokeFunction(\n",
              "                'suggestCharts', [key], {});\n",
              "          } catch (error) {\n",
              "            console.error('Error during call to suggestCharts:', error);\n",
              "          }\n",
              "          quickchartButtonEl.classList.remove('colab-df-spinner');\n",
              "          quickchartButtonEl.classList.add('colab-df-quickchart-complete');\n",
              "        }\n",
              "        (() => {\n",
              "          let quickchartButtonEl =\n",
              "            document.querySelector('#df-a2bcc3f2-d5b5-47cb-b4fa-e0e297a73e28 button');\n",
              "          quickchartButtonEl.style.display =\n",
              "            google.colab.kernel.accessAllowed ? 'block' : 'none';\n",
              "        })();\n",
              "      </script>\n",
              "    </div>\n",
              "\n",
              "  <div id=\"id_633658e2-c0bd-486c-944f-721d20659715\">\n",
              "    <style>\n",
              "      .colab-df-generate {\n",
              "        background-color: #E8F0FE;\n",
              "        border: none;\n",
              "        border-radius: 50%;\n",
              "        cursor: pointer;\n",
              "        display: none;\n",
              "        fill: #1967D2;\n",
              "        height: 32px;\n",
              "        padding: 0 0 0 0;\n",
              "        width: 32px;\n",
              "      }\n",
              "\n",
              "      .colab-df-generate:hover {\n",
              "        background-color: #E2EBFA;\n",
              "        box-shadow: 0px 1px 2px rgba(60, 64, 67, 0.3), 0px 1px 3px 1px rgba(60, 64, 67, 0.15);\n",
              "        fill: #174EA6;\n",
              "      }\n",
              "\n",
              "      [theme=dark] .colab-df-generate {\n",
              "        background-color: #3B4455;\n",
              "        fill: #D2E3FC;\n",
              "      }\n",
              "\n",
              "      [theme=dark] .colab-df-generate:hover {\n",
              "        background-color: #434B5C;\n",
              "        box-shadow: 0px 1px 3px 1px rgba(0, 0, 0, 0.15);\n",
              "        filter: drop-shadow(0px 1px 2px rgba(0, 0, 0, 0.3));\n",
              "        fill: #FFFFFF;\n",
              "      }\n",
              "    </style>\n",
              "    <button class=\"colab-df-generate\" onclick=\"generateWithVariable('df')\"\n",
              "            title=\"Generate code using this dataframe.\"\n",
              "            style=\"display:none;\">\n",
              "\n",
              "  <svg xmlns=\"http://www.w3.org/2000/svg\" height=\"24px\"viewBox=\"0 0 24 24\"\n",
              "       width=\"24px\">\n",
              "    <path d=\"M7,19H8.4L18.45,9,17,7.55,7,17.6ZM5,21V16.75L18.45,3.32a2,2,0,0,1,2.83,0l1.4,1.43a1.91,1.91,0,0,1,.58,1.4,1.91,1.91,0,0,1-.58,1.4L9.25,21ZM18.45,9,17,7.55Zm-12,3A5.31,5.31,0,0,0,4.9,8.1,5.31,5.31,0,0,0,1,6.5,5.31,5.31,0,0,0,4.9,4.9,5.31,5.31,0,0,0,6.5,1,5.31,5.31,0,0,0,8.1,4.9,5.31,5.31,0,0,0,12,6.5,5.46,5.46,0,0,0,6.5,12Z\"/>\n",
              "  </svg>\n",
              "    </button>\n",
              "    <script>\n",
              "      (() => {\n",
              "      const buttonEl =\n",
              "        document.querySelector('#id_633658e2-c0bd-486c-944f-721d20659715 button.colab-df-generate');\n",
              "      buttonEl.style.display =\n",
              "        google.colab.kernel.accessAllowed ? 'block' : 'none';\n",
              "\n",
              "      buttonEl.onclick = () => {\n",
              "        google.colab.notebook.generateWithVariable('df');\n",
              "      }\n",
              "      })();\n",
              "    </script>\n",
              "  </div>\n",
              "\n",
              "    </div>\n",
              "  </div>\n"
            ],
            "application/vnd.google.colaboratory.intrinsic+json": {
              "type": "dataframe",
              "variable_name": "df",
              "summary": "{\n  \"name\": \"df\",\n  \"rows\": 4,\n  \"fields\": [\n    {\n      \"column\": \"cgpa\",\n      \"properties\": {\n        \"dtype\": \"number\",\n        \"std\": 1,\n        \"min\": 5,\n        \"max\": 8,\n        \"num_unique_values\": 4,\n        \"samples\": [\n          7,\n          5,\n          8\n        ],\n        \"semantic_type\": \"\",\n        \"description\": \"\"\n      }\n    },\n    {\n      \"column\": \"Profile_score\",\n      \"properties\": {\n        \"dtype\": \"number\",\n        \"std\": 1,\n        \"min\": 8,\n        \"max\": 12,\n        \"num_unique_values\": 4,\n        \"samples\": [\n          9,\n          12,\n          8\n        ],\n        \"semantic_type\": \"\",\n        \"description\": \"\"\n      }\n    },\n    {\n      \"column\": \"lpa\",\n      \"properties\": {\n        \"dtype\": \"number\",\n        \"std\": 1,\n        \"min\": 4,\n        \"max\": 7,\n        \"num_unique_values\": 4,\n        \"samples\": [\n          5,\n          7,\n          4\n        ],\n        \"semantic_type\": \"\",\n        \"description\": \"\"\n      }\n    }\n  ]\n}"
            }
          },
          "metadata": {},
          "execution_count": 24
        }
      ]
    },
    {
      "cell_type": "code",
      "source": [
        "def initialize_parameters(layers_dims):\n",
        "  # np.random.seed(3)\n",
        "  parameters = {}\n",
        "  L = len(layers_dims)\n",
        "  for l in range(1 , L):\n",
        "    parameters['W' + str(l)] = np.ones((layers_dims[l-1], layers_dims[l]))*0.1\n",
        "    parameters['b' + str(l)] = np.zeros((layers_dims[l],1))\n",
        "\n",
        "  return parameters\n"
      ],
      "metadata": {
        "id": "vy8IQbrnjzzE"
      },
      "execution_count": 25,
      "outputs": []
    },
    {
      "cell_type": "code",
      "source": [
        "initialize_parameters([2,2,1])"
      ],
      "metadata": {
        "colab": {
          "base_uri": "https://localhost:8080/"
        },
        "id": "ga007odNxvIJ",
        "outputId": "0b0e5025-09bb-4f8f-ba1c-78cbb132423d"
      },
      "execution_count": 26,
      "outputs": [
        {
          "output_type": "execute_result",
          "data": {
            "text/plain": [
              "{'W1': array([[0.1, 0.1],\n",
              "        [0.1, 0.1]]),\n",
              " 'b1': array([[0.],\n",
              "        [0.]]),\n",
              " 'W2': array([[0.1],\n",
              "        [0.1]]),\n",
              " 'b2': array([[0.]])}"
            ]
          },
          "metadata": {},
          "execution_count": 26
        }
      ]
    },
    {
      "cell_type": "code",
      "source": [
        "def linear_forward(A_prev,W,b):\n",
        "  Z = np.dot(W.T,A_prev) + b\n",
        "  # cache = (A_prev,W,b)\n",
        "  return Z"
      ],
      "metadata": {
        "id": "icYqToiTx6Z0"
      },
      "execution_count": 27,
      "outputs": []
    },
    {
      "cell_type": "code",
      "source": [
        "def L_layer_forward(X,parameters):\n",
        "  A = X\n",
        "  L = len(parameters)//2\n",
        "  for l in range(1,L+1):\n",
        "    A_prev = A\n",
        "    w1 = parameters['W' + str(l)]\n",
        "    b1 = parameters['b' + str(l)]\n",
        "    print(\"A\"+str(l-1)+\":\",A_prev)\n",
        "    print(\"W\"+str(l)+\":\",w1)\n",
        "    print(\"b\"+str(l)+\":\",b1)\n",
        "    print(\"--\"*20)\n",
        "    A = linear_forward(A_prev,w1,b1)\n",
        "    print(\"A\"+str(l)+\":\",A)\n",
        "    print(\"**\"*20)\n",
        "  return A,A_prev"
      ],
      "metadata": {
        "id": "OYyduc0KyhDN"
      },
      "execution_count": 28,
      "outputs": []
    },
    {
      "cell_type": "code",
      "source": [
        "x = df[['cgpa','Profile_score']].values[0].reshape(2,1)\n",
        "y = df[['lpa']].values[0][0]\n",
        "\n",
        "\n",
        "\n",
        "parameters = initialize_parameters([2,2,1])\n",
        "y_hat,A1 = L_layer_forward(x,parameters)"
      ],
      "metadata": {
        "colab": {
          "base_uri": "https://localhost:8080/"
        },
        "id": "MT8SXq06zfSd",
        "outputId": "e9393eb9-a78d-4aaa-cf25-ac9fe592bb96"
      },
      "execution_count": 29,
      "outputs": [
        {
          "output_type": "stream",
          "name": "stdout",
          "text": [
            "A0: [[8]\n",
            " [8]]\n",
            "W1: [[0.1 0.1]\n",
            " [0.1 0.1]]\n",
            "b1: [[0.]\n",
            " [0.]]\n",
            "----------------------------------------\n",
            "A1: [[1.6]\n",
            " [1.6]]\n",
            "****************************************\n",
            "A1: [[1.6]\n",
            " [1.6]]\n",
            "W2: [[0.1]\n",
            " [0.1]]\n",
            "b2: [[0.]]\n",
            "----------------------------------------\n",
            "A2: [[0.32]]\n",
            "****************************************\n"
          ]
        }
      ]
    },
    {
      "cell_type": "code",
      "source": [
        "(y-.32)**2"
      ],
      "metadata": {
        "colab": {
          "base_uri": "https://localhost:8080/"
        },
        "id": "e5TAK44v7Ddy",
        "outputId": "07ca0ab3-21d6-46be-9421-077f2bb8892c"
      },
      "execution_count": 30,
      "outputs": [
        {
          "output_type": "execute_result",
          "data": {
            "text/plain": [
              "np.float64(13.5424)"
            ]
          },
          "metadata": {},
          "execution_count": 30
        }
      ]
    },
    {
      "cell_type": "code",
      "source": [
        "y_hat = y_hat[0][0]"
      ],
      "metadata": {
        "id": "gt6t1W8KLNJ4"
      },
      "execution_count": 31,
      "outputs": []
    },
    {
      "cell_type": "code",
      "source": [
        "def update_parameters(parameters,y,y_hat,A1,x):\n",
        "  parameters['W2'][0][0] = parameters['W2'][0][0] + (0.001 * 2 * (y- y_hat)*A1[0][0])\n",
        "  parameters['W2'][1][0] = parameters['W2'][1][0] + (0.001 * 2 * (y- y_hat)*A1[0][0])\n",
        "  parameters['b2'][0][0] = parameters['W2'][1][0] + (0.001 * 2 * (y- y_hat))\n",
        "\n",
        "  parameters['W1'][0][0] = parameters['W1'][0][0] + (0.001 * 2 * (y- y_hat)*parameters['W2'][0][0]*x[0][0])\n",
        "  parameters['W1'][0][1] = parameters['W1'][0][1] + (0.001 * 2 * (y- y_hat)*parameters['W2'][0][0]*x[1][0])\n",
        "  parameters['b1'][0][0] = parameters['b1'][0][0] + (0.001 * 2 * (y- y_hat)*parameters['W2'][0][0])\n",
        "\n",
        "  parameters['W1'][1][0] = parameters['W1'][1][0] + (0.001 * 2 * (y- y_hat)*parameters['W2'][1][0]*x[0][0])\n",
        "  parameters['W1'][1][1] = parameters['W1'][1][1] + (0.001 * 2 * (y- y_hat)*parameters['W2'][1][0]*x[1][0])\n",
        "  parameters['b1'][1][0] = parameters['b1'][1][0] + (0.001 * 2 * (y- y_hat)*parameters['W2'][1][0])"
      ],
      "metadata": {
        "id": "txaw8gkt9jpQ"
      },
      "execution_count": 32,
      "outputs": []
    },
    {
      "cell_type": "code",
      "source": [
        "x = df[['cgpa','Profile_score']].values[0].reshape(2,1)\n",
        "y = df[['lpa']].values[0][0]\n",
        "\n",
        "parameters = initialize_parameters([2,2,1])\n",
        "y_hat,A1 = L_layer_forward(x,parameters)"
      ],
      "metadata": {
        "id": "ml2SxRLcJJ53",
        "colab": {
          "base_uri": "https://localhost:8080/"
        },
        "outputId": "81ca556f-5a97-47fc-e69c-ae41a040a781"
      },
      "execution_count": 33,
      "outputs": [
        {
          "output_type": "stream",
          "name": "stdout",
          "text": [
            "A0: [[8]\n",
            " [8]]\n",
            "W1: [[0.1 0.1]\n",
            " [0.1 0.1]]\n",
            "b1: [[0.]\n",
            " [0.]]\n",
            "----------------------------------------\n",
            "A1: [[1.6]\n",
            " [1.6]]\n",
            "****************************************\n",
            "A1: [[1.6]\n",
            " [1.6]]\n",
            "W2: [[0.1]\n",
            " [0.1]]\n",
            "b2: [[0.]]\n",
            "----------------------------------------\n",
            "A2: [[0.32]]\n",
            "****************************************\n"
          ]
        }
      ]
    },
    {
      "cell_type": "code",
      "source": [
        "y_hat = y_hat[0][0]"
      ],
      "metadata": {
        "id": "SWTYOLx_JowX"
      },
      "execution_count": 34,
      "outputs": []
    },
    {
      "cell_type": "code",
      "source": [
        "A1"
      ],
      "metadata": {
        "colab": {
          "base_uri": "https://localhost:8080/"
        },
        "id": "KB9ZaA9KK36B",
        "outputId": "95b2313a-cf81-41bb-fca6-8c2cd3cecd57"
      },
      "execution_count": 35,
      "outputs": [
        {
          "output_type": "execute_result",
          "data": {
            "text/plain": [
              "array([[1.6],\n",
              "       [1.6]])"
            ]
          },
          "metadata": {},
          "execution_count": 35
        }
      ]
    },
    {
      "cell_type": "code",
      "source": [
        "update_parameters(parameters,y , y_hat,A1,x)"
      ],
      "metadata": {
        "id": "C3DWRkshLW3x"
      },
      "execution_count": 36,
      "outputs": []
    },
    {
      "cell_type": "code",
      "source": [
        "parameters"
      ],
      "metadata": {
        "colab": {
          "base_uri": "https://localhost:8080/"
        },
        "id": "qXsg5ZB9Lk5O",
        "outputId": "671d0844-723c-47c3-cd73-d432a0d536ca"
      },
      "execution_count": 37,
      "outputs": [
        {
          "output_type": "execute_result",
          "data": {
            "text/plain": [
              "{'W1': array([[0.10658137, 0.10658137],\n",
              "        [0.10658137, 0.10658137]]),\n",
              " 'b1': array([[0.00082267],\n",
              "        [0.00082267]]),\n",
              " 'W2': array([[0.111776],\n",
              "        [0.111776]]),\n",
              " 'b2': array([[0.119136]])}"
            ]
          },
          "metadata": {},
          "execution_count": 37
        }
      ]
    },
    {
      "cell_type": "code",
      "source": [
        "x = df[['cgpa','Profile_score']].values[1].reshape(2,1)\n",
        "y = df[['lpa']].values[1][0]\n",
        "\n",
        "# parameters = initialize_parameters([2,2,1])\n",
        "y_hat,A1 = L_layer_forward(x,parameters)"
      ],
      "metadata": {
        "colab": {
          "base_uri": "https://localhost:8080/"
        },
        "id": "DajCcFDyLuRr",
        "outputId": "73a7e6e5-47b1-4e3a-f4b1-3df17dadbf5f"
      },
      "execution_count": 38,
      "outputs": [
        {
          "output_type": "stream",
          "name": "stdout",
          "text": [
            "A0: [[7]\n",
            " [9]]\n",
            "W1: [[0.10658137 0.10658137]\n",
            " [0.10658137 0.10658137]]\n",
            "b1: [[0.00082267]\n",
            " [0.00082267]]\n",
            "----------------------------------------\n",
            "A1: [[1.70612461]\n",
            " [1.70612461]]\n",
            "****************************************\n",
            "A1: [[1.70612461]\n",
            " [1.70612461]]\n",
            "W2: [[0.111776]\n",
            " [0.111776]]\n",
            "b2: [[0.119136]]\n",
            "----------------------------------------\n",
            "A2: [[0.50054357]]\n",
            "****************************************\n"
          ]
        }
      ]
    },
    {
      "cell_type": "code",
      "source": [
        "def update_parameters(parameters,y,y_hat,A1,x):\n",
        "  parameters['W2'][0][0] = parameters['W2'][0][0] + (0.001 * 2 * (y- y_hat)*A1[0][0])\n",
        "  parameters['W2'][1][0] = parameters['W2'][1][0] + (0.001 * 2 * (y- y_hat)*A1[0][0])\n",
        "  parameters['b2'][0][0] = parameters['W2'][1][0] + (0.001 * 2 * (y- y_hat))\n",
        "\n",
        "  parameters['W1'][0][0] = parameters['W1'][0][0] + (0.001 * 2 * (y- y_hat)*parameters['W2'][0][0]*x[0][0])\n",
        "  parameters['W1'][0][1] = parameters['W1'][0][1] + (0.001 * 2 * (y- y_hat)*parameters['W2'][0][0]*x[1][0])\n",
        "  parameters['b1'][0][0] = parameters['b1'][0][0] + (0.001 * 2 * (y- y_hat)*parameters['W2'][0][0])\n",
        "\n",
        "  parameters['W1'][1][0] = parameters['W1'][1][0] + (0.001 * 2 * (y- y_hat)*parameters['W2'][1][0]*x[0][0])\n",
        "  parameters['W1'][1][1] = parameters['W1'][1][1] + (0.001 * 2 * (y- y_hat)*parameters['W2'][1][0]*x[1][0])\n",
        "  parameters['b1'][1][0] = parameters['b1'][1][0] + (0.001 * 2 * (y- y_hat)*parameters['W2'][1][0])"
      ],
      "metadata": {
        "id": "-HQckg00MNAG"
      },
      "execution_count": 39,
      "outputs": []
    },
    {
      "cell_type": "code",
      "source": [
        "update_parameters(parameters,y , y_hat,A1,x)"
      ],
      "metadata": {
        "colab": {
          "base_uri": "https://localhost:8080/"
        },
        "id": "m8uvBapfMgd8",
        "outputId": "f045e2c2-5872-48ee-eb28-4cf6a4dad4ba"
      },
      "execution_count": 40,
      "outputs": [
        {
          "output_type": "stream",
          "name": "stderr",
          "text": [
            "/tmp/ipython-input-39-3147578796.py:2: DeprecationWarning: Conversion of an array with ndim > 0 to a scalar is deprecated, and will error in future. Ensure you extract a single element from your array before performing this operation. (Deprecated NumPy 1.25.)\n",
            "  parameters['W2'][0][0] = parameters['W2'][0][0] + (0.001 * 2 * (y- y_hat)*A1[0][0])\n",
            "/tmp/ipython-input-39-3147578796.py:3: DeprecationWarning: Conversion of an array with ndim > 0 to a scalar is deprecated, and will error in future. Ensure you extract a single element from your array before performing this operation. (Deprecated NumPy 1.25.)\n",
            "  parameters['W2'][1][0] = parameters['W2'][1][0] + (0.001 * 2 * (y- y_hat)*A1[0][0])\n",
            "/tmp/ipython-input-39-3147578796.py:4: DeprecationWarning: Conversion of an array with ndim > 0 to a scalar is deprecated, and will error in future. Ensure you extract a single element from your array before performing this operation. (Deprecated NumPy 1.25.)\n",
            "  parameters['b2'][0][0] = parameters['W2'][1][0] + (0.001 * 2 * (y- y_hat))\n",
            "/tmp/ipython-input-39-3147578796.py:6: DeprecationWarning: Conversion of an array with ndim > 0 to a scalar is deprecated, and will error in future. Ensure you extract a single element from your array before performing this operation. (Deprecated NumPy 1.25.)\n",
            "  parameters['W1'][0][0] = parameters['W1'][0][0] + (0.001 * 2 * (y- y_hat)*parameters['W2'][0][0]*x[0][0])\n",
            "/tmp/ipython-input-39-3147578796.py:7: DeprecationWarning: Conversion of an array with ndim > 0 to a scalar is deprecated, and will error in future. Ensure you extract a single element from your array before performing this operation. (Deprecated NumPy 1.25.)\n",
            "  parameters['W1'][0][1] = parameters['W1'][0][1] + (0.001 * 2 * (y- y_hat)*parameters['W2'][0][0]*x[1][0])\n",
            "/tmp/ipython-input-39-3147578796.py:8: DeprecationWarning: Conversion of an array with ndim > 0 to a scalar is deprecated, and will error in future. Ensure you extract a single element from your array before performing this operation. (Deprecated NumPy 1.25.)\n",
            "  parameters['b1'][0][0] = parameters['b1'][0][0] + (0.001 * 2 * (y- y_hat)*parameters['W2'][0][0])\n",
            "/tmp/ipython-input-39-3147578796.py:10: DeprecationWarning: Conversion of an array with ndim > 0 to a scalar is deprecated, and will error in future. Ensure you extract a single element from your array before performing this operation. (Deprecated NumPy 1.25.)\n",
            "  parameters['W1'][1][0] = parameters['W1'][1][0] + (0.001 * 2 * (y- y_hat)*parameters['W2'][1][0]*x[0][0])\n",
            "/tmp/ipython-input-39-3147578796.py:11: DeprecationWarning: Conversion of an array with ndim > 0 to a scalar is deprecated, and will error in future. Ensure you extract a single element from your array before performing this operation. (Deprecated NumPy 1.25.)\n",
            "  parameters['W1'][1][1] = parameters['W1'][1][1] + (0.001 * 2 * (y- y_hat)*parameters['W2'][1][0]*x[1][0])\n",
            "/tmp/ipython-input-39-3147578796.py:12: DeprecationWarning: Conversion of an array with ndim > 0 to a scalar is deprecated, and will error in future. Ensure you extract a single element from your array before performing this operation. (Deprecated NumPy 1.25.)\n",
            "  parameters['b1'][1][0] = parameters['b1'][1][0] + (0.001 * 2 * (y- y_hat)*parameters['W2'][1][0])\n"
          ]
        }
      ]
    },
    {
      "cell_type": "code",
      "source": [
        "parameters"
      ],
      "metadata": {
        "colab": {
          "base_uri": "https://localhost:8080/"
        },
        "id": "8SQHrV1aMhYo",
        "outputId": "613e390f-a609-4a2d-ced5-759ea9c405c7"
      },
      "execution_count": 41,
      "outputs": [
        {
          "output_type": "execute_result",
          "data": {
            "text/plain": [
              "{'W1': array([[0.11458955, 0.1168776 ],\n",
              "        [0.11458955, 0.1168776 ]]),\n",
              " 'b1': array([[0.0019667],\n",
              "        [0.0019667]]),\n",
              " 'W2': array([[0.12712927],\n",
              "        [0.12712927]]),\n",
              " 'b2': array([[0.13612818]])}"
            ]
          },
          "metadata": {},
          "execution_count": 41
        }
      ]
    },
    {
      "cell_type": "code",
      "source": [
        "x = df[['cgpa','Profile_score']].values[2].reshape(2,1)\n",
        "y = df[['lpa']].values[2][0]\n",
        "\n",
        "# parameters = initialize_parameters([2,2,1])\n",
        "y_hat,A1 = L_layer_forward(x,parameters)\n",
        "\n",
        "\n",
        "def update_parameters(parameters,y,y_hat,A1,x):\n",
        "  parameters['W2'][0][0] = parameters['W2'][0][0] + (0.001 * 2 * (y- y_hat)*A1[0][0])\n",
        "  parameters['W2'][1][0] = parameters['W2'][1][0] + (0.001 * 2 * (y- y_hat)*A1[0][0])\n",
        "  parameters['b2'][0][0] = parameters['W2'][1][0] + (0.001 * 2 * (y- y_hat))\n",
        "\n",
        "  parameters['W1'][0][0] = parameters['W1'][0][0] + (0.001 * 2 * (y- y_hat)*parameters['W2'][0][0]*x[0][0])\n",
        "  parameters['W1'][0][1] = parameters['W1'][0][1] + (0.001 * 2 * (y- y_hat)*parameters['W2'][0][0]*x[1][0])\n",
        "  parameters['b1'][0][0] = parameters['b1'][0][0] + (0.001 * 2 * (y- y_hat)*parameters['W2'][0][0])\n",
        "\n",
        "  parameters['W1'][1][0] = parameters['W1'][1][0] + (0.001 * 2 * (y- y_hat)*parameters['W2'][1][0]*x[0][0])\n",
        "  parameters['W1'][1][1] = parameters['W1'][1][1] + (0.001 * 2 * (y- y_hat)*parameters['W2'][1][0]*x[1][0])\n",
        "  parameters['b1'][1][0] = parameters['b1'][1][0] + (0.001 * 2 * (y- y_hat)*parameters['W2'][1][0])\n",
        "\n",
        "update_parameters(parameters,y , y_hat,A1,x)\n",
        "\n",
        "\n",
        "parameters\n"
      ],
      "metadata": {
        "colab": {
          "base_uri": "https://localhost:8080/"
        },
        "id": "0IW2_aaGMvCn",
        "outputId": "b536dd4b-d1d2-4d4c-d556-818ffe8adb7a"
      },
      "execution_count": 42,
      "outputs": [
        {
          "output_type": "stream",
          "name": "stdout",
          "text": [
            "A0: [[ 6]\n",
            " [10]]\n",
            "W1: [[0.11458955 0.1168776 ]\n",
            " [0.11458955 0.1168776 ]]\n",
            "b1: [[0.0019667]\n",
            " [0.0019667]]\n",
            "----------------------------------------\n",
            "A1: [[1.83539945]\n",
            " [1.87200826]]\n",
            "****************************************\n",
            "A1: [[1.83539945]\n",
            " [1.87200826]]\n",
            "W2: [[0.12712927]\n",
            " [0.12712927]]\n",
            "b2: [[0.13612818]]\n",
            "----------------------------------------\n",
            "A2: [[0.6074482]]\n",
            "****************************************\n"
          ]
        },
        {
          "output_type": "stream",
          "name": "stderr",
          "text": [
            "/tmp/ipython-input-42-2811842454.py:9: DeprecationWarning: Conversion of an array with ndim > 0 to a scalar is deprecated, and will error in future. Ensure you extract a single element from your array before performing this operation. (Deprecated NumPy 1.25.)\n",
            "  parameters['W2'][0][0] = parameters['W2'][0][0] + (0.001 * 2 * (y- y_hat)*A1[0][0])\n",
            "/tmp/ipython-input-42-2811842454.py:10: DeprecationWarning: Conversion of an array with ndim > 0 to a scalar is deprecated, and will error in future. Ensure you extract a single element from your array before performing this operation. (Deprecated NumPy 1.25.)\n",
            "  parameters['W2'][1][0] = parameters['W2'][1][0] + (0.001 * 2 * (y- y_hat)*A1[0][0])\n",
            "/tmp/ipython-input-42-2811842454.py:11: DeprecationWarning: Conversion of an array with ndim > 0 to a scalar is deprecated, and will error in future. Ensure you extract a single element from your array before performing this operation. (Deprecated NumPy 1.25.)\n",
            "  parameters['b2'][0][0] = parameters['W2'][1][0] + (0.001 * 2 * (y- y_hat))\n",
            "/tmp/ipython-input-42-2811842454.py:13: DeprecationWarning: Conversion of an array with ndim > 0 to a scalar is deprecated, and will error in future. Ensure you extract a single element from your array before performing this operation. (Deprecated NumPy 1.25.)\n",
            "  parameters['W1'][0][0] = parameters['W1'][0][0] + (0.001 * 2 * (y- y_hat)*parameters['W2'][0][0]*x[0][0])\n",
            "/tmp/ipython-input-42-2811842454.py:14: DeprecationWarning: Conversion of an array with ndim > 0 to a scalar is deprecated, and will error in future. Ensure you extract a single element from your array before performing this operation. (Deprecated NumPy 1.25.)\n",
            "  parameters['W1'][0][1] = parameters['W1'][0][1] + (0.001 * 2 * (y- y_hat)*parameters['W2'][0][0]*x[1][0])\n",
            "/tmp/ipython-input-42-2811842454.py:15: DeprecationWarning: Conversion of an array with ndim > 0 to a scalar is deprecated, and will error in future. Ensure you extract a single element from your array before performing this operation. (Deprecated NumPy 1.25.)\n",
            "  parameters['b1'][0][0] = parameters['b1'][0][0] + (0.001 * 2 * (y- y_hat)*parameters['W2'][0][0])\n",
            "/tmp/ipython-input-42-2811842454.py:17: DeprecationWarning: Conversion of an array with ndim > 0 to a scalar is deprecated, and will error in future. Ensure you extract a single element from your array before performing this operation. (Deprecated NumPy 1.25.)\n",
            "  parameters['W1'][1][0] = parameters['W1'][1][0] + (0.001 * 2 * (y- y_hat)*parameters['W2'][1][0]*x[0][0])\n",
            "/tmp/ipython-input-42-2811842454.py:18: DeprecationWarning: Conversion of an array with ndim > 0 to a scalar is deprecated, and will error in future. Ensure you extract a single element from your array before performing this operation. (Deprecated NumPy 1.25.)\n",
            "  parameters['W1'][1][1] = parameters['W1'][1][1] + (0.001 * 2 * (y- y_hat)*parameters['W2'][1][0]*x[1][0])\n",
            "/tmp/ipython-input-42-2811842454.py:19: DeprecationWarning: Conversion of an array with ndim > 0 to a scalar is deprecated, and will error in future. Ensure you extract a single element from your array before performing this operation. (Deprecated NumPy 1.25.)\n",
            "  parameters['b1'][1][0] = parameters['b1'][1][0] + (0.001 * 2 * (y- y_hat)*parameters['W2'][1][0])\n"
          ]
        },
        {
          "output_type": "execute_result",
          "data": {
            "text/plain": [
              "{'W1': array([[0.12409711, 0.13272353],\n",
              "        [0.12409711, 0.13272353]]),\n",
              " 'b1': array([[0.00355129],\n",
              "        [0.00355129]]),\n",
              " 'W2': array([[0.14692424],\n",
              "        [0.14692424]]),\n",
              " 'b2': array([[0.15770934]])}"
            ]
          },
          "metadata": {},
          "execution_count": 42
        }
      ]
    },
    {
      "cell_type": "code",
      "source": [
        "x = df[['cgpa','Profile_score']].values[3].reshape(2,1)\n",
        "y = df[['lpa']].values[3][0]\n",
        "\n",
        "# parameters = initialize_parameters([2,2,1])\n",
        "y_hat,A1 = L_layer_forward(x,parameters)\n",
        "\n",
        "\n",
        "def update_parameters(parameters,y,y_hat,A1,x):\n",
        "  parameters['W2'][0][0] = parameters['W2'][0][0] + (0.001 * 2 * (y- y_hat)*A1[0][0])\n",
        "  parameters['W2'][1][0] = parameters['W2'][1][0] + (0.001 * 2 * (y- y_hat)*A1[0][0])\n",
        "  parameters['b2'][0][0] = parameters['W2'][1][0] + (0.001 * 2 * (y- y_hat))\n",
        "\n",
        "  parameters['W1'][0][0] = parameters['W1'][0][0] + (0.001 * 2 * (y- y_hat)*parameters['W2'][0][0]*x[0][0])\n",
        "  parameters['W1'][0][1] = parameters['W1'][0][1] + (0.001 * 2 * (y- y_hat)*parameters['W2'][0][0]*x[1][0])\n",
        "  parameters['b1'][0][0] = parameters['b1'][0][0] + (0.001 * 2 * (y- y_hat)*parameters['W2'][0][0])\n",
        "\n",
        "  parameters['W1'][1][0] = parameters['W1'][1][0] + (0.001 * 2 * (y- y_hat)*parameters['W2'][1][0]*x[0][0])\n",
        "  parameters['W1'][1][1] = parameters['W1'][1][1] + (0.001 * 2 * (y- y_hat)*parameters['W2'][1][0]*x[1][0])\n",
        "  parameters['b1'][1][0] = parameters['b1'][1][0] + (0.001 * 2 * (y- y_hat)*parameters['W2'][1][0])\n",
        "\n",
        "update_parameters(parameters,y , y_hat,A1,x)\n",
        "\n",
        "\n",
        "parameters\n"
      ],
      "metadata": {
        "colab": {
          "base_uri": "https://localhost:8080/"
        },
        "id": "niWU_kTlM0Vg",
        "outputId": "a1c062ec-e6e5-42cb-ad31-91db82ceeace"
      },
      "execution_count": 43,
      "outputs": [
        {
          "output_type": "stream",
          "name": "stdout",
          "text": [
            "A0: [[ 5]\n",
            " [12]]\n",
            "W1: [[0.12409711 0.13272353]\n",
            " [0.12409711 0.13272353]]\n",
            "b1: [[0.00355129]\n",
            " [0.00355129]]\n",
            "----------------------------------------\n",
            "A1: [[2.11320209]\n",
            " [2.25985128]]\n",
            "****************************************\n",
            "A1: [[2.11320209]\n",
            " [2.25985128]]\n",
            "W2: [[0.14692424]\n",
            " [0.14692424]]\n",
            "b2: [[0.15770934]]\n",
            "----------------------------------------\n",
            "A2: [[0.80021689]]\n",
            "****************************************\n"
          ]
        },
        {
          "output_type": "stream",
          "name": "stderr",
          "text": [
            "/tmp/ipython-input-43-58594516.py:9: DeprecationWarning: Conversion of an array with ndim > 0 to a scalar is deprecated, and will error in future. Ensure you extract a single element from your array before performing this operation. (Deprecated NumPy 1.25.)\n",
            "  parameters['W2'][0][0] = parameters['W2'][0][0] + (0.001 * 2 * (y- y_hat)*A1[0][0])\n",
            "/tmp/ipython-input-43-58594516.py:10: DeprecationWarning: Conversion of an array with ndim > 0 to a scalar is deprecated, and will error in future. Ensure you extract a single element from your array before performing this operation. (Deprecated NumPy 1.25.)\n",
            "  parameters['W2'][1][0] = parameters['W2'][1][0] + (0.001 * 2 * (y- y_hat)*A1[0][0])\n",
            "/tmp/ipython-input-43-58594516.py:11: DeprecationWarning: Conversion of an array with ndim > 0 to a scalar is deprecated, and will error in future. Ensure you extract a single element from your array before performing this operation. (Deprecated NumPy 1.25.)\n",
            "  parameters['b2'][0][0] = parameters['W2'][1][0] + (0.001 * 2 * (y- y_hat))\n",
            "/tmp/ipython-input-43-58594516.py:13: DeprecationWarning: Conversion of an array with ndim > 0 to a scalar is deprecated, and will error in future. Ensure you extract a single element from your array before performing this operation. (Deprecated NumPy 1.25.)\n",
            "  parameters['W1'][0][0] = parameters['W1'][0][0] + (0.001 * 2 * (y- y_hat)*parameters['W2'][0][0]*x[0][0])\n",
            "/tmp/ipython-input-43-58594516.py:14: DeprecationWarning: Conversion of an array with ndim > 0 to a scalar is deprecated, and will error in future. Ensure you extract a single element from your array before performing this operation. (Deprecated NumPy 1.25.)\n",
            "  parameters['W1'][0][1] = parameters['W1'][0][1] + (0.001 * 2 * (y- y_hat)*parameters['W2'][0][0]*x[1][0])\n",
            "/tmp/ipython-input-43-58594516.py:15: DeprecationWarning: Conversion of an array with ndim > 0 to a scalar is deprecated, and will error in future. Ensure you extract a single element from your array before performing this operation. (Deprecated NumPy 1.25.)\n",
            "  parameters['b1'][0][0] = parameters['b1'][0][0] + (0.001 * 2 * (y- y_hat)*parameters['W2'][0][0])\n",
            "/tmp/ipython-input-43-58594516.py:17: DeprecationWarning: Conversion of an array with ndim > 0 to a scalar is deprecated, and will error in future. Ensure you extract a single element from your array before performing this operation. (Deprecated NumPy 1.25.)\n",
            "  parameters['W1'][1][0] = parameters['W1'][1][0] + (0.001 * 2 * (y- y_hat)*parameters['W2'][1][0]*x[0][0])\n",
            "/tmp/ipython-input-43-58594516.py:18: DeprecationWarning: Conversion of an array with ndim > 0 to a scalar is deprecated, and will error in future. Ensure you extract a single element from your array before performing this operation. (Deprecated NumPy 1.25.)\n",
            "  parameters['W1'][1][1] = parameters['W1'][1][1] + (0.001 * 2 * (y- y_hat)*parameters['W2'][1][0]*x[1][0])\n",
            "/tmp/ipython-input-43-58594516.py:19: DeprecationWarning: Conversion of an array with ndim > 0 to a scalar is deprecated, and will error in future. Ensure you extract a single element from your array before performing this operation. (Deprecated NumPy 1.25.)\n",
            "  parameters['b1'][1][0] = parameters['b1'][1][0] + (0.001 * 2 * (y- y_hat)*parameters['W2'][1][0])\n"
          ]
        },
        {
          "output_type": "execute_result",
          "data": {
            "text/plain": [
              "{'W1': array([[0.13483061, 0.15848393],\n",
              "        [0.13483061, 0.15848393]]),\n",
              " 'b1': array([[0.00569799],\n",
              "        [0.00569799]]),\n",
              " 'W2': array([[0.17312703],\n",
              "        [0.17312703]]),\n",
              " 'b2': array([[0.1855266]])}"
            ]
          },
          "metadata": {},
          "execution_count": 43
        }
      ]
    },
    {
      "cell_type": "code",
      "source": [],
      "metadata": {
        "id": "Mj6uid3rNFmr"
      },
      "execution_count": 43,
      "outputs": []
    }
  ]
}